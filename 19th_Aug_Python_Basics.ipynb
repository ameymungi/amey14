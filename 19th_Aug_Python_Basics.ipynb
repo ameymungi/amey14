{
 "cells": [
  {
   "cell_type": "code",
   "execution_count": 1,
   "id": "2f4a35bc-7a04-4212-b217-5927e0da031f",
   "metadata": {},
   "outputs": [],
   "source": [
    "'''Declare two variables, `x` and `y`, and assign them integer values. Swap the\n",
    "values of these variables without using any temporary variable.'''\n",
    "x,y=5,6"
   ]
  },
  {
   "cell_type": "code",
   "execution_count": 2,
   "id": "2e91830c-5892-4e24-826e-879f29947376",
   "metadata": {},
   "outputs": [
    {
     "data": {
      "text/plain": [
       "(5, 6)"
      ]
     },
     "execution_count": 2,
     "metadata": {},
     "output_type": "execute_result"
    }
   ],
   "source": [
    "x,y"
   ]
  },
  {
   "cell_type": "code",
   "execution_count": 3,
   "id": "48dbe4da-1f62-4b90-814e-d9513c4cc1ca",
   "metadata": {},
   "outputs": [],
   "source": [
    "x,y=y,x #swap the values. x will become and y will become x."
   ]
  },
  {
   "cell_type": "code",
   "execution_count": 4,
   "id": "9555141d-505b-41da-9ee4-866045a00698",
   "metadata": {},
   "outputs": [
    {
     "data": {
      "text/plain": [
       "(5, 6)"
      ]
     },
     "execution_count": 4,
     "metadata": {},
     "output_type": "execute_result"
    }
   ],
   "source": [
    "y,x"
   ]
  },
  {
   "cell_type": "code",
   "execution_count": 6,
   "id": "662d43c2-0520-4027-ae90-235f427746db",
   "metadata": {},
   "outputs": [
    {
     "name": "stdout",
     "output_type": "stream",
     "text": [
      "enter the length: \n"
     ]
    },
    {
     "name": "stdin",
     "output_type": "stream",
     "text": [
      " 50\n"
     ]
    },
    {
     "name": "stdout",
     "output_type": "stream",
     "text": [
      "enter the widthe: \n"
     ]
    },
    {
     "name": "stdin",
     "output_type": "stream",
     "text": [
      " 60\n"
     ]
    },
    {
     "name": "stdout",
     "output_type": "stream",
     "text": [
      "Area of reactangle is: : 3000.0\n"
     ]
    }
   ],
   "source": [
    "'''Create a program that calculates the area of a rectangle. Take the length and\n",
    "width as inputs from the user and store them in variables. Calculate and\n",
    "display the area.'''\n",
    "print(\"enter the length: \")\n",
    "l=float(input())\n",
    "print(\"enter the widthe: \")\n",
    "w=float(input())\n",
    "a=l*w\n",
    "print(\"Area of reactangle is: :\",a)"
   ]
  },
  {
   "cell_type": "code",
   "execution_count": 11,
   "id": "7a9a3320-d3dd-4760-9e2d-c810bf1adb23",
   "metadata": {},
   "outputs": [
    {
     "name": "stdout",
     "output_type": "stream",
     "text": [
      "enter the temperature in celcius: \n"
     ]
    },
    {
     "name": "stdin",
     "output_type": "stream",
     "text": [
      " 45\n"
     ]
    },
    {
     "name": "stdout",
     "output_type": "stream",
     "text": [
      "temperature in Farenhite is:  113.0\n"
     ]
    }
   ],
   "source": [
    "'''Write a Python program that converts temperatures from Celsius to\n",
    "Fahrenheit. Take the temperature in Celsius as input, store it in a variable,\n",
    "convert it to Fahrenheit, and display the result.'''\n",
    "print('enter the temperature in celcius: ')\n",
    "t=float(input())\n",
    "t1=(9/5)*t+32\n",
    "print('temperature in Farenhite is: ',t1)"
   ]
  },
  {
   "cell_type": "code",
   "execution_count": 13,
   "id": "e2932b8b-403a-432d-9f31-b11805d8da77",
   "metadata": {},
   "outputs": [
    {
     "name": "stdout",
     "output_type": "stream",
     "text": [
      "enter string: \n"
     ]
    },
    {
     "name": "stdin",
     "output_type": "stream",
     "text": [
      " artificial intelligence\n"
     ]
    },
    {
     "name": "stdout",
     "output_type": "stream",
     "text": [
      "length of the string is:  23\n"
     ]
    }
   ],
   "source": [
    "'''Write a Python program that takes a string as input and prints the length of\n",
    "the string.'''\n",
    "print('enter string: ')\n",
    "s=str(input())\n",
    "length= len(s)\n",
    "print(\"length of the string is: \", length)"
   ]
  },
  {
   "cell_type": "code",
   "execution_count": 4,
   "id": "948ac04e-fd1a-4ccd-8370-579a37f7aef6",
   "metadata": {},
   "outputs": [
    {
     "name": "stdin",
     "output_type": "stream",
     "text": [
      "enter a sentence:  i am a student\n"
     ]
    },
    {
     "name": "stdout",
     "output_type": "stream",
     "text": [
      "number of vowels:  5\n"
     ]
    }
   ],
   "source": [
    "'''Create a program that takes a sentence from the user and counts the number\n",
    "of vowels (a, e, i, o, u) in the string.'''\n",
    "s=input('enter a sentence: ')\n",
    "vowel_count=0\n",
    "for char in s:\n",
    "    char_lower=char.lower()\n",
    "    if char_lower in \"aeiou\":\n",
    "        vowel_count+=1\n",
    "        \n",
    "print(\"number of vowels: \", vowel_count)       \n"
   ]
  },
  {
   "cell_type": "code",
   "execution_count": 10,
   "id": "9c690ccb-6f47-48d1-a5a7-da1698be54e1",
   "metadata": {},
   "outputs": [
    {
     "name": "stdin",
     "output_type": "stream",
     "text": [
      "enter a string:  python\n"
     ]
    },
    {
     "name": "stdout",
     "output_type": "stream",
     "text": [
      "Reversed string:  nohtyp\n"
     ]
    }
   ],
   "source": [
    "'''Given a string, reverse the order of characters using string slicing and print\n",
    "the reversed string.'''\n",
    "string =input('enter a string: ')\n",
    "Reversed_string = string[::-1]\n",
    "print('Reversed string: ',Reversed_string)\n"
   ]
  },
  {
   "cell_type": "code",
   "execution_count": 17,
   "id": "0a9b9626-8202-4f59-9816-88c8dbf8403f",
   "metadata": {},
   "outputs": [
    {
     "name": "stdin",
     "output_type": "stream",
     "text": [
      "enter a string:  i am ma i\n"
     ]
    },
    {
     "name": "stdout",
     "output_type": "stream",
     "text": [
      "palindrome\n"
     ]
    }
   ],
   "source": [
    "'''Write a program that takes a string as input and checks if it is a palindrome\n",
    "(reads the same forwards and backwards).'''\n",
    "string=input('enter a string: ')\n",
    "string_first=string.replace(\" \",\"\").lower()\n",
    "string_second=string_first[::-1]\n",
    "if string_first==string_second:\n",
    "    print(\"palindrome\")\n",
    "else:\n",
    "    print(\"not a palindrome\")"
   ]
  },
  {
   "cell_type": "code",
   "execution_count": 1,
   "id": "802ce6f0-1541-4fe4-884c-0f63a3728e77",
   "metadata": {},
   "outputs": [
    {
     "name": "stdin",
     "output_type": "stream",
     "text": [
      "enter a string:  i am student\n"
     ]
    },
    {
     "name": "stdout",
     "output_type": "stream",
     "text": [
      "modified string is:  iamstudent\n"
     ]
    }
   ],
   "source": [
    "'''Create a program that takes a string as input and removes all the spaces from\n",
    "it. Print the modified string without spaces.'''\n",
    "s=input('enter a string: ')\n",
    "modified_string=s.replace(\" \",\"\")\n",
    "print(\"modified string is: \",modified_string)"
   ]
  }
 ],
 "metadata": {
  "kernelspec": {
   "display_name": "Python 3 (ipykernel)",
   "language": "python",
   "name": "python3"
  },
  "language_info": {
   "codemirror_mode": {
    "name": "ipython",
    "version": 3
   },
   "file_extension": ".py",
   "mimetype": "text/x-python",
   "name": "python",
   "nbconvert_exporter": "python",
   "pygments_lexer": "ipython3",
   "version": "3.10.8"
  }
 },
 "nbformat": 4,
 "nbformat_minor": 5
}
